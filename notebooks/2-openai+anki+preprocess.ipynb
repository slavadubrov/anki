{
 "cells": [
  {
   "cell_type": "markdown",
   "id": "074edfeb",
   "metadata": {},
   "source": [
    "# Notebook creates translations and sentence examples from the input german text and then generates anki cards"
   ]
  },
  {
   "cell_type": "code",
   "execution_count": null,
   "id": "541eb2f1",
   "metadata": {
    "height": 47,
    "tags": []
   },
   "outputs": [],
   "source": [
    "from langchain_openai import ChatOpenAI\n",
    "from langchain.chains import LLMChain, SequentialChain\n",
    "\n",
    "from anki.german_deck import GermanDeck\n",
    "from anki.templates import (\n",
    "    extract_template,\n",
    "    translate_template,\n",
    "    words_sentences_template,\n",
    "    other_forms_template,\n",
    "    sentence_translate_template,\n",
    ")"
   ]
  },
  {
   "cell_type": "code",
   "execution_count": null,
   "id": "b7ed03ed-1322-49e3-b2a2-33e94fb592ef",
   "metadata": {
    "height": 81,
    "tags": []
   },
   "outputs": [],
   "source": [
    "from dotenv import load_dotenv, find_dotenv\n",
    "\n",
    "_ = load_dotenv(find_dotenv())"
   ]
  },
  {
   "cell_type": "code",
   "execution_count": null,
   "id": "4336d784-65c2-4a11-8489-b445b1fad177",
   "metadata": {
    "height": 234
   },
   "outputs": [],
   "source": [
    "llm_model = \"gpt-4o-mini\"\n",
    "# llm_model = \"gpt-4o\"\n",
    "llm = ChatOpenAI(temperature=0.01, model=llm_model)\n",
    "\n",
    "# Open the file in read mode\n",
    "with open(\"data/input.txt\", \"r\") as file:\n",
    "    # Read the entire content of the file into a variable\n",
    "    text_input = \"\\n\".join(sorted(list(set(list(file.read().split(\"\\n\"))))))"
   ]
  },
  {
   "cell_type": "markdown",
   "id": "b940ce7c",
   "metadata": {},
   "source": [
    "## LLMChain"
   ]
  },
  {
   "cell_type": "code",
   "execution_count": null,
   "id": "e92dff22",
   "metadata": {
    "height": 64,
    "tags": []
   },
   "outputs": [],
   "source": [
    "output_variables_templates = {\n",
    "    \"german_words\": extract_template,\n",
    "    \"english_words\": translate_template,\n",
    "    \"german_sentences\": words_sentences_template,\n",
    "    \"english_sentences\": sentence_translate_template,\n",
    "    \"other_forms\": other_forms_template,\n",
    "}\n",
    "\n",
    "overall_chain = SequentialChain(\n",
    "    chains=[\n",
    "        LLMChain(llm=llm, prompt=prompt, output_key=output_variable)\n",
    "        for output_variable, prompt in output_variables_templates.items()\n",
    "    ],\n",
    "    input_variables=[\"input_text\"],\n",
    "    output_variables=list(output_variables_templates.keys()),\n",
    "    verbose=True,\n",
    ")\n",
    "\n",
    "chain_output = overall_chain(text_input)"
   ]
  },
  {
   "cell_type": "code",
   "execution_count": null,
   "id": "f61ebf51",
   "metadata": {},
   "outputs": [],
   "source": [
    "preprocessed = {\n",
    "    k: [word.strip() for word in chain_output[k].strip().split(\";\")]\n",
    "    for k in output_variables_templates.keys()\n",
    "}\n",
    "\n",
    "filtered = {\n",
    "    k: v for k, v in preprocessed.items() if len(v) == len(preprocessed[\"german_words\"])\n",
    "}\n",
    "\n",
    "preprocessed_list = [\n",
    "    dict(zip(filtered.keys(), values)) for values in zip(*filtered.values())\n",
    "]"
   ]
  },
  {
   "cell_type": "code",
   "execution_count": null,
   "id": "d290c9f7",
   "metadata": {},
   "outputs": [],
   "source": [
    "for column in [\"german_sentences\", \"other_forms\"]:\n",
    "    preprocessed[column] = {\n",
    "        sentence.split(\":\")[0].strip(): sentence.split(\":\")[1].strip()\n",
    "        for sentence in preprocessed[column]\n",
    "    }\n",
    "\n",
    "preprocessed[\"english_sentences\"] = [\n",
    "    sentence.split(\":\")[1].strip() for sentence in preprocessed[\"english_sentences\"]\n",
    "]"
   ]
  },
  {
   "cell_type": "code",
   "execution_count": null,
   "id": "20f5067b",
   "metadata": {},
   "outputs": [],
   "source": [
    "for item in preprocessed_list:\n",
    "    for column in [\"german_sentences\", \"other_forms\"]:\n",
    "        item[column] = item[column].split(\":\")[1].strip()\n",
    "    item[\"english_sentences\"] = item[\"english_sentences\"].split(\":\")[1].strip()"
   ]
  },
  {
   "cell_type": "code",
   "execution_count": null,
   "id": "71ed3f01",
   "metadata": {},
   "outputs": [],
   "source": [
    "for k, v in preprocessed.items():\n",
    "    print(k, len(v))"
   ]
  },
  {
   "cell_type": "code",
   "execution_count": 20,
   "id": "7c470da8",
   "metadata": {},
   "outputs": [],
   "source": [
    "# Save results to new anki cards\n",
    "\n",
    "deck_id = 2059400110  # Example deck ID\n",
    "model_id = 1607392319  # Example model ID\n",
    "FILE_PATH = \"../../data/german_vocabulary\"\n",
    "\n",
    "german_deck = GermanDeck(deck_id, model_id, FILE_PATH)\n",
    "# german_deck.load_deck()\n",
    "\n",
    "for item in preprocessed_list:\n",
    "    german_deck.add_note(\n",
    "        german_word=item[\"german_words\"],\n",
    "        translation=item[\"english_words\"],\n",
    "        german_sentence=item[\"german_sentences\"],\n",
    "        english_sentence=item[\"english_sentences\"],\n",
    "        other_forms=\" \",\n",
    "    )\n",
    "\n",
    "german_deck.save_deck()"
   ]
  },
  {
   "cell_type": "code",
   "execution_count": null,
   "id": "cf69a845",
   "metadata": {},
   "outputs": [],
   "source": []
  }
 ],
 "metadata": {
  "kernelspec": {
   "display_name": "Python 3 (ipykernel)",
   "language": "python",
   "name": "python3"
  },
  "language_info": {
   "codemirror_mode": {
    "name": "ipython",
    "version": 3
   },
   "file_extension": ".py",
   "mimetype": "text/x-python",
   "name": "python",
   "nbconvert_exporter": "python",
   "pygments_lexer": "ipython3",
   "version": "3.12.5"
  }
 },
 "nbformat": 4,
 "nbformat_minor": 5
}
