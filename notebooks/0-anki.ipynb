{
 "cells": [
  {
   "cell_type": "markdown",
   "metadata": {},
   "source": [
    "# Example of creating anki cards"
   ]
  },
  {
   "cell_type": "code",
   "execution_count": 1,
   "metadata": {},
   "outputs": [],
   "source": [
    "%load_ext autoreload"
   ]
  },
  {
   "cell_type": "code",
   "execution_count": 2,
   "metadata": {},
   "outputs": [],
   "source": [
    "from anki.german_deck import GermanDeck"
   ]
  },
  {
   "cell_type": "code",
   "execution_count": 3,
   "metadata": {},
   "outputs": [],
   "source": [
    "deck_id = 2059400110  # Example deck ID\n",
    "model_id = 1607392319  # Example model ID\n",
    "FILE_PATH = \"../../data/german_vocabulary\""
   ]
  },
  {
   "cell_type": "code",
   "execution_count": 4,
   "metadata": {},
   "outputs": [],
   "source": [
    "# Initialize the GermanDeck with a base file name\n",
    "german_deck = GermanDeck(deck_id, model_id, FILE_PATH)\n",
    "\n",
    "# Add notes to the deck\n",
    "german_deck.add_note(\n",
    "    german_word=\"vereinbaren\",\n",
    "    translation=\"to agree\",\n",
    "    german_sentence=\"Wir haben ein Treffen vereinbart.\",\n",
    "    english_sentence=\"We agreed on a meeting.\",\n",
    "    other_forms=\"vereinbarte, vereinbart\",\n",
    ")\n",
    "\n",
    "german_deck.add_note(\n",
    "    german_word=\"das Mädchen\",\n",
    "    translation=\"the girl\",\n",
    "    german_sentence=\"Das Mädchen spielt im Park.\",\n",
    "    english_sentence=\"The girl is playing in the park.\",\n",
    "    other_forms=\"die Mädchen\",\n",
    ")\n",
    "\n",
    "# Save the deck and store the notes in a SQLite database and .apkg file\n",
    "german_deck.save_deck()"
   ]
  },
  {
   "cell_type": "code",
   "execution_count": 5,
   "metadata": {},
   "outputs": [],
   "source": [
    "# Load the deck from the SQLite database\n",
    "new_german_deck = GermanDeck(deck_id, model_id, FILE_PATH)\n",
    "new_german_deck.load_deck()\n",
    "\n",
    "# Optionally save the reloaded deck to a new .apkg file to verify it works\n",
    "new_german_deck.save_to_apkg()"
   ]
  },
  {
   "cell_type": "code",
   "execution_count": null,
   "metadata": {},
   "outputs": [],
   "source": []
  }
 ],
 "metadata": {
  "kernelspec": {
   "display_name": "venv",
   "language": "python",
   "name": "python3"
  },
  "language_info": {
   "codemirror_mode": {
    "name": "ipython",
    "version": 3
   },
   "file_extension": ".py",
   "mimetype": "text/x-python",
   "name": "python",
   "nbconvert_exporter": "python",
   "pygments_lexer": "ipython3",
   "version": "3.12.5"
  }
 },
 "nbformat": 4,
 "nbformat_minor": 2
}
