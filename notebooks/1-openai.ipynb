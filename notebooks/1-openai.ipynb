{
 "cells": [
  {
   "cell_type": "markdown",
   "id": "3bd3c6c7",
   "metadata": {},
   "source": [
    "# Example of creating llm chain"
   ]
  },
  {
   "cell_type": "code",
   "execution_count": null,
   "id": "0bd40473",
   "metadata": {},
   "outputs": [],
   "source": [
    "%load_ext autoreload"
   ]
  },
  {
   "cell_type": "code",
   "execution_count": null,
   "id": "541eb2f1",
   "metadata": {
    "height": 47,
    "tags": []
   },
   "outputs": [],
   "source": [
    "from langchain_openai import ChatOpenAI\n",
    "from langchain.chains import LLMChain, SequentialChain\n",
    "\n",
    "from anki.templates import (\n",
    "    extract_template,\n",
    "    translate_template,\n",
    "    words_sentences_template,\n",
    "    other_forms_template,\n",
    "    sentence_translate_template,\n",
    ")"
   ]
  },
  {
   "cell_type": "code",
   "execution_count": null,
   "id": "b7ed03ed-1322-49e3-b2a2-33e94fb592ef",
   "metadata": {
    "height": 81,
    "tags": []
   },
   "outputs": [],
   "source": [
    "from dotenv import load_dotenv, find_dotenv\n",
    "\n",
    "_ = load_dotenv(find_dotenv())"
   ]
  },
  {
   "cell_type": "code",
   "execution_count": null,
   "id": "4336d784-65c2-4a11-8489-b445b1fad177",
   "metadata": {
    "height": 234
   },
   "outputs": [],
   "source": [
    "llm_model = \"gpt-4o-mini\"\n",
    "llm = ChatOpenAI(temperature=0.1, model=llm_model)"
   ]
  },
  {
   "cell_type": "code",
   "execution_count": null,
   "id": "974acf8e-8f88-42de-88f8-40a82cb58e8b",
   "metadata": {
    "height": 47,
    "tags": []
   },
   "outputs": [],
   "source": [
    "txt_input = \"\"\"noch ein mal - еще раз\n",
    "\n",
    "wissen - знать (ответ на вопрос, владеть информацией)\n",
    "kennen - знать (быть знакомым с кем-то или чем-то)\n",
    "können - знать (владеть предметом науки)\n",
    "\n",
    "die Anzeige - объявление\n",
    "ähnlich - похожий\n",
    "gleich - одинаковый\n",
    "die ältere Dame, der ältere Mann - пожилые\n",
    "das Niveau - уровень\n",
    "der Grund, warum - причина, почему\n",
    "\n",
    "leihen - давать взаймы\n",
    "ausleihen - брать взаймы\n",
    "\n",
    "betreuen - присматривать, руководить, опекать\n",
    "der Betreuer\n",
    "die Betreuung\n",
    "\"\"\""
   ]
  },
  {
   "cell_type": "markdown",
   "id": "b940ce7c",
   "metadata": {},
   "source": [
    "## LLMChain"
   ]
  },
  {
   "cell_type": "code",
   "execution_count": null,
   "id": "e92dff22",
   "metadata": {
    "height": 64,
    "tags": []
   },
   "outputs": [],
   "source": [
    "output_variables_templates = {\n",
    "    \"german_words\": extract_template,\n",
    "    \"english_words\": translate_template,\n",
    "    \"german_sentences\": words_sentences_template,\n",
    "    \"english_sentences\": sentence_translate_template,\n",
    "    \"other_forms\": other_forms_template,\n",
    "}\n",
    "\n",
    "overall_chain = SequentialChain(\n",
    "    chains=[\n",
    "        LLMChain(llm=llm, prompt=prompt, output_key=output_variable)\n",
    "        for output_variable, prompt in output_variables_templates.items()\n",
    "    ],\n",
    "    input_variables=[\"input_text\"],\n",
    "    output_variables=list(output_variables_templates.keys()),\n",
    "    verbose=True,\n",
    ")\n",
    "\n",
    "overall_chain(txt_input)"
   ]
  },
  {
   "cell_type": "code",
   "execution_count": null,
   "id": "7c470da8",
   "metadata": {},
   "outputs": [],
   "source": []
  }
 ],
 "metadata": {
  "kernelspec": {
   "display_name": "Python 3 (ipykernel)",
   "language": "python",
   "name": "python3"
  },
  "language_info": {
   "codemirror_mode": {
    "name": "ipython",
    "version": 3
   },
   "file_extension": ".py",
   "mimetype": "text/x-python",
   "name": "python",
   "nbconvert_exporter": "python",
   "pygments_lexer": "ipython3",
   "version": "3.12.5"
  }
 },
 "nbformat": 4,
 "nbformat_minor": 5
}
